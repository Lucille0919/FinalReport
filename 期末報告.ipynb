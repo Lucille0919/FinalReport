{
  "nbformat": 4,
  "nbformat_minor": 0,
  "metadata": {
    "colab": {
      "name": "期末報告.ipynb",
      "provenance": [],
      "collapsed_sections": [],
      "authorship_tag": "ABX9TyMIvp5STBTpB1ebN1OEBZ+s",
      "include_colab_link": true
    },
    "kernelspec": {
      "name": "python3",
      "display_name": "Python 3"
    }
  },
  "cells": [
    {
      "cell_type": "markdown",
      "metadata": {
        "id": "view-in-github",
        "colab_type": "text"
      },
      "source": [
        "<a href=\"https://colab.research.google.com/github/Lucille0919/FinalReport/blob/master/%E6%9C%9F%E6%9C%AB%E5%A0%B1%E5%91%8A.ipynb\" target=\"_parent\"><img src=\"https://colab.research.google.com/assets/colab-badge.svg\" alt=\"Open In Colab\"/></a>"
      ]
    },
    {
      "cell_type": "code",
      "metadata": {
        "id": "T8kV-BJccFxy",
        "colab_type": "code",
        "colab": {
          "base_uri": "https://localhost:8080/",
          "height": 302
        },
        "outputId": "615cd9af-c439-4078-8605-d2549852bbe3"
      },
      "source": [
        "import time\n",
        "#您好我是Frank 很高興為您服務\n",
        "#**您好，我想內用，請問有位置嗎？**\n",
        "#有的，請問這裡幾位？\n",
        "#**2**位\n",
        "#好的*2*位裡面請。\n",
        "\n",
        "\n",
        "print(\"您好我是Frank 很高興為您服務\")\n",
        "\n",
        "sit=input(\"\")\n",
        "\n",
        "while True:\n",
        "    peoplo=input(\"好的，請問這裡幾位？\\n\")\n",
        "    if int(peoplo)==2:\n",
        "        break\n",
        "    else:\n",
        "        print(\"請回答2\")\n",
        "\n",
        "\n",
        "\n",
        "print(\"好的\",peoplo,\"位 裡面請\")\n",
        "\n",
        "#您好，請問今天想吃點什麼？\n",
        "#**您好，我要一份重乳酪辣烤放山雞疙瘩，在一份紐奧良香辣雞燉飯，謝謝。**\n",
        "#餐點辣度有需要做調整嗎？\n",
        "#**都大辣謝謝**\n",
        "#好的，那有需要升級套餐嗎？\n",
        "#**不用，謝謝。**\n",
        "\n",
        "food=input(\"您好，請問今天想吃點什麼？\\n\")\n",
        "\n",
        "print(\"餐點辣度有需要做調整嗎？\")\n",
        "\n",
        "spicy=input(\"\")\n",
        "\n",
        "drink=input(\"好的，那有需要升級套餐嗎？\")\n",
        "\n",
        "\n",
        "#您好，那這邊幫您結帳喔~\n",
        "#**這樣多少錢？**\n",
        "#今日消費780元，加上一成服務費一共是858元，請問現今還是刷卡?\n",
        "#**LinePay可以嗎？**\n",
        "#可以呀，那今天用餐還滿意嗎?\n",
        "#滿意，餐點很美味!\n",
        "\n",
        "how_much=input(\"您好，那這邊幫您結帳喔~\\n\")\n",
        "\n",
        "print(\"今日消費780元，加上一成服務費一共是858元，請問現今還是刷卡?\")\n",
        "\n",
        "pay=input(\"\")\n",
        "\n",
        "taste=input(\"可以呀，請問今天用餐還滿意嗎?\\n\")\n",
        "\n",
        "\n",
        "#謝謝光臨，歡迎下次再來唷~\n",
        "\n",
        "print(\"謝謝光臨，歡迎下次再來唷~\")"
      ],
      "execution_count": 7,
      "outputs": [
        {
          "output_type": "stream",
          "text": [
            "您好我是Frank 很高興為您服務\n",
            "您好，我想內用，請問有位置嗎？\n",
            "好的，請問這裡幾位？\n",
            "2\n",
            "好的 2 位 裡面請\n",
            "您好，請問今天想吃點什麼？\n",
            "您好，我要一份重乳酪辣烤放山雞疙瘩，在一份紐奧良香辣雞燉飯，謝謝。\n",
            "餐點辣度有需要做調整嗎？\n",
            "都大辣謝謝\n",
            "好的，那有需要升級套餐嗎？不用，謝謝。\n",
            "您好，那這邊幫您結帳喔~\n",
            "這樣多少錢？\n",
            "今日消費780元，加上一成服務費一共是858元，請問現今還是刷卡?\n",
            "LinePay可以嗎？\n",
            "可以呀，請問今天用餐還滿意嗎?\n",
            "滿意，餐點很美味!\n",
            "謝謝光臨，歡迎下次再來唷~\n"
          ],
          "name": "stdout"
        }
      ]
    }
  ]
}